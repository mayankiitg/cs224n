{
 "cells": [
  {
   "cell_type": "code",
   "execution_count": 63,
   "metadata": {},
   "outputs": [],
   "source": [
    "import os\n",
    "import json\n",
    "from pprint import pprint\n",
    "from ujson import load as json_load\n",
    "import collections\n",
    "import matplotlib.pyplot as plt"
   ]
  },
  {
   "cell_type": "code",
   "execution_count": 37,
   "metadata": {},
   "outputs": [],
   "source": [
    "def load_dev(filepath):\n",
    "    data = json.load(open(filepath))\n",
    "    truth_dict = {}\n",
    "    for k, v in data.items():\n",
    "        truth_dict[v['uuid']] = {'answers': v['answers'], 'question':v['question']}\n",
    "    return truth_dict\n",
    "        "
   ]
  },
  {
   "cell_type": "code",
   "execution_count": 39,
   "metadata": {},
   "outputs": [
    {
     "name": "stdout",
     "output_type": "stream",
     "text": [
      "['68cf05f67fd29c6f129fe2fb9', 'f5fead9187d56af2bdbfcb921', 'f9183ead5bb93aaa12ea37245', '1fc4da46445c2c1c2dc0ddeda', '1be9fa378cbee6d9fa8b6ac78', 'c42edddd0f45b968cc4c512e5', 'd583847c96cbbbfaaa99dfcad', 'e06fbbdb50af7ab3faefde618', 'cbb48eaacbbbfcccefb7aab7f', '6d2fff36bcac0ea0e689a5a31']\n"
     ]
    }
   ],
   "source": [
    "# data = json.load(open('data/dev_eval.json'))\n",
    "# keys = {str(x) for x in range(1, 10)}\n",
    "# mini_data = {k:v for k,v in data.items() if k in keys}\n",
    "# pprint(mini_data)\n",
    "data = load_dev('data/dev_eval.json')\n",
    "keys_list = []\n",
    "for k, v in data.items():\n",
    "    keys_list.append(k)\n",
    "    if len(keys_list)==10:\n",
    "        break\n",
    "print(keys_list)\n",
    "# keys = {str(x) for x in range(1, 10)}\n",
    "# mini_data = {k:v for k,v in data.items() if k in keys}\n",
    "# pprint(mini_data)\n",
    "# pprint(data)"
   ]
  },
  {
   "cell_type": "code",
   "execution_count": 40,
   "metadata": {},
   "outputs": [
    {
     "name": "stdout",
     "output_type": "stream",
     "text": [
      "['001fefa37a13cdd53fd82f617', '00415cf9abb539fbb7989beba', '00a4cc38bd041e9a4c4e545ff', '00bafbca5f0d7f61e00a41cb5', '00d60faa383c8a6beffbc2bff', '00e4a6dbb04af0134ee29ce6f', '011cbedf80fae8444eb3c95ce', '01541dd84dafb8143adaa74aa', '0170d2c5639a82ee5e1744cfd', '019ccc77acb5f4a5d1f24cf70']\n"
     ]
    }
   ],
   "source": [
    "import csv\n",
    "#preds = json.load(open('predictions.json'))\n",
    "preds = {}\n",
    "with open('data/dev_submission.csv', newline='', encoding='utf-8') as csvfile:\n",
    "    spamreader = csv.reader(csvfile, delimiter=',', quotechar='|')\n",
    "    count = 0\n",
    "    for row in spamreader:\n",
    "        if count ==0:\n",
    "            count += 1\n",
    "        else:\n",
    "            preds[row[0]] = row[1]\n",
    "\n",
    "#pprint(preds)\n",
    "keys_list = []\n",
    "for k, v in preds.items():\n",
    "    keys_list.append(k)\n",
    "    if len(keys_list)==10:\n",
    "        break\n",
    "print(keys_list)"
   ]
  },
  {
   "cell_type": "code",
   "execution_count": 32,
   "metadata": {},
   "outputs": [],
   "source": [
    "def load_pred(filepath):\n",
    "    preds = {}\n",
    "    with open(filepath, newline='', encoding='utf-8') as csvfile:\n",
    "        spamreader = csv.reader(csvfile, delimiter=',', quotechar='|')\n",
    "        count = 0\n",
    "        for row in spamreader:\n",
    "            if count ==0:\n",
    "                count += 1\n",
    "            else:\n",
    "                preds[row[0]] = row[1]\n",
    "    return preds"
   ]
  },
  {
   "cell_type": "code",
   "execution_count": 9,
   "metadata": {},
   "outputs": [],
   "source": [
    "from __future__ import print_function\n",
    "from collections import Counter\n",
    "import string\n",
    "import re\n",
    "import argparse\n",
    "import json\n",
    "import sys"
   ]
  },
  {
   "cell_type": "code",
   "execution_count": 10,
   "metadata": {},
   "outputs": [],
   "source": [
    "def normalize_answer(s):\n",
    "    \"\"\"Lower text and remove punctuation, articles and extra whitespace.\"\"\"\n",
    "    def remove_articles(text):\n",
    "        return re.sub(r'\\b(a|an|the)\\b', ' ', text)\n",
    "\n",
    "    def white_space_fix(text):\n",
    "        return ' '.join(text.split())\n",
    "\n",
    "    def remove_punc(text):\n",
    "        exclude = set(string.punctuation)\n",
    "        return ''.join(ch for ch in text if ch not in exclude)\n",
    "\n",
    "    def lower(text):\n",
    "        return text.lower()\n",
    "\n",
    "    return white_space_fix(remove_articles(remove_punc(lower(s))))"
   ]
  },
  {
   "cell_type": "code",
   "execution_count": 44,
   "metadata": {},
   "outputs": [],
   "source": [
    "\n",
    "def get_tokens(s):\n",
    "    if not s:\n",
    "        return []\n",
    "    return normalize_answer(s).split()\n",
    "\n",
    "def compute_em(a_gold, a_pred):\n",
    "    return int(normalize_answer(a_gold) == normalize_answer(a_pred))\n",
    "\n",
    "def compute_f1(a_gold, a_pred):\n",
    "    gold_toks = get_tokens(a_gold)\n",
    "    pred_toks = get_tokens(a_pred)\n",
    "    common = Counter(gold_toks) & Counter(pred_toks)\n",
    "    num_same = sum(common.values())\n",
    "    if len(gold_toks) == 0 or len(pred_toks) == 0:\n",
    "        # If either is no-answer, then F1 is 1 if they agree, 0 otherwise\n",
    "        return int(gold_toks == pred_toks)\n",
    "    if num_same == 0:\n",
    "        return 0\n",
    "    precision = 1.0 * num_same / len(pred_toks)\n",
    "    recall = 1.0 * num_same / len(gold_toks)\n",
    "    f1 = (2 * precision * recall) / (precision + recall)\n",
    "    return f1\n",
    "\n",
    "def compute_avna(prediction, ground_truths):\n",
    "    \"\"\"Compute answer vs. no-answer accuracy.\"\"\"\n",
    "    return float(bool(prediction) == bool(ground_truths))\n",
    "\n",
    "def metric_max_over_ground_truths(metric_fn, prediction, ground_truths):\n",
    "    if not ground_truths:\n",
    "        return metric_fn(prediction, '')\n",
    "    scores_for_ground_truths = []\n",
    "    for ground_truth in ground_truths:\n",
    "        score = metric_fn(prediction, ground_truth)\n",
    "        scores_for_ground_truths.append(score)\n",
    "    return max(scores_for_ground_truths)\n"
   ]
  },
  {
   "cell_type": "code",
   "execution_count": 12,
   "metadata": {},
   "outputs": [],
   "source": [
    "# def evaluate(dataset, predictions):\n",
    "#     output_dict = {}\n",
    "#     f1 = exact_match = total = 0\n",
    "#     for article in dataset:\n",
    "#         for paragraph in article['paragraphs']:\n",
    "#             for qa in paragraph['qas']:\n",
    "#                 total += 1\n",
    "#                 if qa['id'] not in predictions:\n",
    "#                     message = 'Unanswered question ' + qa['id'] + \\\n",
    "#                               ' will receive score 0.'\n",
    "#                     print(message, file=sys.stderr)\n",
    "#                     continue\n",
    "#                 ground_truths = list(map(lambda x: x['text'], qa['answers']))\n",
    "#                 prediction = predictions[qa['id']][0]\n",
    "#                 len_answer = len(prediction.split(' '))\n",
    "#                 exact_match += metric_max_over_ground_truths(\n",
    "#                     exact_match_score, prediction, ground_truths)\n",
    "#                 f1 += metric_max_over_ground_truths(\n",
    "#                     f1_score, prediction, ground_truths)\n",
    "                \n",
    "#                 question = qa['question']\n",
    "#                 em_yn = metric_max_over_ground_truths(\n",
    "#                     exact_match_score, prediction, ground_truths)\n",
    "# #                 em_score = exact_match_score(prediction, ground_truths)\n",
    "#                 if em_yn==True:\n",
    "#                     append = 1\n",
    "#                 else:\n",
    "#                     append = 0\n",
    "#                 output_dict[question] = [append, len_answer]\n",
    "\n",
    "#     exact_match = 100.0 * exact_match / total\n",
    "#     f1 = 100.0 * f1 / total\n",
    "    \n",
    "#     print(\"Exact Match:\", exact_match)\n",
    "#     print(\"F1: \", f1)\n",
    "\n",
    "#     return output_dict"
   ]
  },
  {
   "cell_type": "code",
   "execution_count": 108,
   "metadata": {},
   "outputs": [],
   "source": [
    "def eval_dicts(gold_dict, pred_dict, no_answer):\n",
    "    avna = f1 = em = total = 0\n",
    "    dict_quest = {}\n",
    "    for key, value in pred_dict.items():\n",
    "        total += 1\n",
    "        ground_truths = gold_dict[key]['answers']\n",
    "#         print(key)\n",
    "#         print(\"prediction = \", value)\n",
    "#         print(\"ground_truth = \", ground_truths)\n",
    "        prediction = value\n",
    "        em1 = metric_max_over_ground_truths(compute_em, prediction, ground_truths)\n",
    "        f11 = metric_max_over_ground_truths(compute_f1, prediction, ground_truths)\n",
    "        \n",
    "        em += em1\n",
    "        f1 += f11\n",
    "        \n",
    "        if no_answer:\n",
    "            avna1 = compute_avna(prediction, ground_truths)\n",
    "            avna += avna1\n",
    "        \n",
    "        dict_quest[key] = {'EM': em1, 'F1':f11, 'AvNA':avna1, 'question':gold_dict[key]['question']}\n",
    "#         if total<10:\n",
    "#             print(dict_quest[key])\n",
    "    eval_dict = {'EM': 100. * em / total,\n",
    "                 'F1': 100. * f1 / total}\n",
    "\n",
    "    if no_answer:\n",
    "        eval_dict['AvNA'] = 100. * avna / total\n",
    "\n",
    "    return eval_dict, dict_quest"
   ]
  },
  {
   "cell_type": "code",
   "execution_count": 110,
   "metadata": {},
   "outputs": [],
   "source": [
    "dataset_file = 'data/dev_eval.json'\n",
    "dataset = load_dev(dataset_file)\n",
    "#dataset = dataset_json['data']\n",
    "\n",
    "# predictions_file = 'predictions.json'\n",
    "# predictions = json.load(open(predictions_file))\n",
    "# output_dict = json.dumps(evaluate(dataset, predictions))\n",
    "\n",
    "# dict_ques = json.loads(output_dict)\n",
    "pred_file = 'data/dev_submission.csv'\n",
    "preds = load_pred(pred_file)\n",
    "eval_dict, dict_ques = eval_dicts(dataset, preds, 1)\n",
    "#print(dict_ques)"
   ]
  },
  {
   "cell_type": "markdown",
   "metadata": {},
   "source": [
    "### By Question Type"
   ]
  },
  {
   "cell_type": "code",
   "execution_count": 111,
   "metadata": {},
   "outputs": [],
   "source": [
    "def question_type_analysis(pred_file):\n",
    "\n",
    "    predictions = load_pred(pred_file)\n",
    "    output_dict, dict_ques = eval_dicts(dataset, predictions, 1)\n",
    "\n",
    "    \n",
    "    quest_dist = collections.defaultdict(dict)\n",
    "    for k, v in dict_ques.items():\n",
    "        #print(\"k, v = \", k, v)\n",
    "        ques = v['question']\n",
    "        ques = ques.lower()\n",
    "        fw = ques.split(' ')[0]\n",
    "    #     print(fw)\n",
    "        if fw in quest_dist:\n",
    "            quest_dist[fw]['total'] +=1.0\n",
    "            quest_dist[fw]['em1'] += v['EM']\n",
    "            quest_dist[fw]['f11'] += v['F1']\n",
    "            quest_dist[fw]['avna1'] += v['AvNA']\n",
    "            \n",
    "        else:\n",
    "            quest_dist[fw]['total'] = 1.0\n",
    "            quest_dist[fw]['em1'] = v['EM']\n",
    "            quest_dist[fw]['f11'] = v['F1']\n",
    "            quest_dist[fw]['avna1'] = v['AvNA']\n",
    "    \n",
    "    for fw,_ in quest_dist.items():\n",
    "        quest_dist[fw]['em'] = quest_dist[fw]['em1']*1.0/quest_dist[fw]['total']\n",
    "        quest_dist[fw]['f1'] = quest_dist[fw]['f11']*1.0/quest_dist[fw]['total']\n",
    "        quest_dist[fw]['avna'] = quest_dist[fw]['avna1']*1.0/quest_dist[fw]['total']\n",
    "    return quest_dist"
   ]
  },
  {
   "cell_type": "code",
   "execution_count": 112,
   "metadata": {},
   "outputs": [],
   "source": [
    "\n",
    "main_ques = ['what','who','how','which','when','where','why']\n",
    "x_axis = main_ques[:]\n",
    "x_axis.append('other')\n",
    "que2idx = {}\n",
    "for i, q in enumerate(main_ques):\n",
    "    que2idx[q] = i\n"
   ]
  },
  {
   "cell_type": "code",
   "execution_count": 113,
   "metadata": {},
   "outputs": [],
   "source": [
    "quest_dict = question_type_analysis('data/dev_submission.csv')"
   ]
  },
  {
   "cell_type": "code",
   "execution_count": 116,
   "metadata": {},
   "outputs": [],
   "source": [
    "f1_scores = [0]*(len(main_ques)+1)\n",
    "em_scores = [0]*(len(main_ques)+1)\n",
    "avna_scores = [0]*(len(main_ques)+1)\n",
    "\n",
    "total, f1, em, avna = 0, 0, 0, 0\n",
    "for ques in quest_dict:\n",
    "    if ques in main_ques:\n",
    "        f1_scores[que2idx[ques]] = quest_dict[ques]['f1']\n",
    "        em_scores[que2idx[ques]] = quest_dict[ques]['em']\n",
    "        avna_scores[que2idx[ques]] = quest_dict[ques]['avna']\n",
    "        #print(quest_dict[ques]['f1'], quest_dict[ques]['total'])\n",
    "    else:\n",
    "        total += quest_dict[ques]['total']\n",
    "        f1 += quest_dict[ques]['total']*quest_dict[ques]['f1']\n",
    "        em += quest_dict[ques]['total']*quest_dict[ques]['em']\n",
    "        avna += quest_dict[ques]['total']*quest_dict[ques]['avna']\n",
    "#for ques in x_axis:\n",
    "    \n",
    "f1_scores[-1] = f1/total\n",
    "em_scores[-1] = em/total\n",
    "avna_scores[-1] = avna/total"
   ]
  },
  {
   "cell_type": "code",
   "execution_count": 117,
   "metadata": {},
   "outputs": [
    {
     "data": {
      "text/plain": [
       "Text(0.5, 0, \"['what', 'who', 'how', 'which', 'when', 'where', 'why', 'other']\")"
      ]
     },
     "execution_count": 117,
     "metadata": {},
     "output_type": "execute_result"
    },
    {
     "data": {
      "image/png": "[encoded data removed]",
      "text/plain": [
       "<Figure size 432x288 with 1 Axes>"
      ]
     },
     "metadata": {
      "needs_background": "light"
     },
     "output_type": "display_data"
    }
   ],
   "source": [
    "plt.plot(f1_scores)\n",
    "plt.xlabel(x_axis)"
   ]
  },
  {
   "cell_type": "code",
   "execution_count": 118,
   "metadata": {},
   "outputs": [
    {
     "data": {
      "text/plain": [
       "Text(0.5, 0, \"['what', 'who', 'how', 'which', 'when', 'where', 'why', 'other']\")"
      ]
     },
     "execution_count": 118,
     "metadata": {},
     "output_type": "execute_result"
    },
    {
     "data": {
      "image/png": "[encoded data removed]",
      "text/plain": [
       "<Figure size 432x288 with 1 Axes>"
      ]
     },
     "metadata": {
      "needs_background": "light"
     },
     "output_type": "display_data"
    }
   ],
   "source": [
    "plt.plot(em_scores)\n",
    "plt.xlabel(x_axis)"
   ]
  },
  {
   "cell_type": "code",
   "execution_count": 119,
   "metadata": {},
   "outputs": [
    {
     "data": {
      "text/plain": [
       "Text(0.5, 0, \"['what', 'who', 'how', 'which', 'when', 'where', 'why', 'other']\")"
      ]
     },
     "execution_count": 119,
     "metadata": {},
     "output_type": "execute_result"
    },
    {
     "data": {
      "image/png": "[encoded data removed]",
      "text/plain": [
       "<Figure size 432x288 with 1 Axes>"
      ]
     },
     "metadata": {
      "needs_background": "light"
     },
     "output_type": "display_data"
    }
   ],
   "source": [
    "plt.plot(avna_scores)\n",
    "plt.xlabel(x_axis)"
   ]
  },
  {
   "cell_type": "code",
   "execution_count": 11,
   "metadata": {},
   "outputs": [
    {
     "name": "stdout",
     "output_type": "stream",
     "text": [
      "Exact Match: 58.3950617284\n",
      "F1:  65.9768945791\n",
      "Question and dist are:  what 0.583025830258 271\n",
      "Question and dist are:  who 0.561497326203 187\n",
      "Question and dist are:  how 0.646258503401 147\n",
      "Question and dist are:  which 0.528571428571 70\n",
      "Question and dist are:  when 0.62962962963 27\n",
      "Question and dist are:  where 0.578947368421 19\n",
      "Question and dist are:  in 0.842105263158 19\n",
      "Question and dist are:  on 0.545454545455 11\n"
     ]
    }
   ],
   "source": [
    "bidaf_list = question_type_analysis('predictions_bidaf_prob.json')"
   ]
  },
  {
   "cell_type": "code",
   "execution_count": 12,
   "metadata": {},
   "outputs": [
    {
     "name": "stdout",
     "output_type": "stream",
     "text": [
      "Exact Match: 56.2962962963\n",
      "F1:  64.6540487188\n",
      "Question and dist are:  what 0.494464944649 271\n",
      "Question and dist are:  who 0.561497326203 187\n",
      "Question and dist are:  how 0.659863945578 147\n",
      "Question and dist are:  which 0.514285714286 70\n",
      "Question and dist are:  when 0.814814814815 27\n",
      "Question and dist are:  where 0.473684210526 19\n",
      "Question and dist are:  in 0.842105263158 19\n",
      "Question and dist are:  on 0.727272727273 11\n"
     ]
    }
   ],
   "source": [
    "rnet_list = question_type_analysis('predictions_rnet_prob.json')"
   ]
  },
  {
   "cell_type": "code",
   "execution_count": 14,
   "metadata": {},
   "outputs": [
    {
     "data": {
      "image/png": "[encoded data removed]",
      "text/plain": [
       "<Figure size 432x288 with 1 Axes>"
      ]
     },
     "metadata": {},
     "output_type": "display_data"
    }
   ],
   "source": [
    "main_ques = ['what','who','how','which','when','where','in','on']\n",
    "import numpy as np\n",
    "X = np.arange(8)\n",
    "import matplotlib.pyplot as plt\n",
    "% matplotlib inline\n",
    "\n",
    "fig=plt.figure() #Creates a new figure\n",
    "ax1=fig.add_subplot(111) #Plot with: 1 row, 1 column, first subplot.\n",
    "\n",
    "line1 = ax1.plot(main_ques, bidaf_list, '-r', label='BIDAF')\n",
    "line2 = ax1.plot(main_ques, rnet_list, '-b', label='RNET')\n",
    "# plt.axis('equal')\n",
    "\n",
    "plt.legend()\n",
    "# plt.figsize(10,10)\n",
    "\n",
    "# plt.bar(main_ques, bidaf_list, 'red', main_ques, rnet_list, 'blue')\n",
    "plt.ylabel('Average EM Accuracy')\n",
    "# # plt.plot(main_ques,rnet_list, color='blue')\n",
    "# # plt.axis(main_ques)\n",
    "plt.xlabel('Question Starts with')\n",
    "plt.title('Comparison of two models on different questions')\n",
    "plt.savefig('plots/question_type.png')\n",
    "plt.show()"
   ]
  },
  {
   "cell_type": "markdown",
   "metadata": {},
   "source": [
    "### By Answer Length"
   ]
  },
  {
   "cell_type": "code",
   "execution_count": 16,
   "metadata": {},
   "outputs": [],
   "source": [
    "def answer_len_analysis(json_file):\n",
    "\n",
    "    predictions = json.load(open(json_file))\n",
    "    output_dict = json.dumps(evaluate(dataset, predictions))\n",
    "\n",
    "    dict_ques = json.loads(output_dict)\n",
    "    \n",
    "    ans_len_dist = {}\n",
    "    for i in range(len(dict_ques)):\n",
    "        ques = dict_ques.keys()[i]\n",
    "        ans_len = dict_ques[ques][1]\n",
    "    #     print(fw)\n",
    "        if ans_len_dist.has_key(ans_len):\n",
    "            ans_len_dist[ans_len] +=1\n",
    "        else:\n",
    "            ans_len_dist[ans_len] = 1\n",
    "    \n",
    "    len_response_dist = {}\n",
    "    for i in range(len(dict_ques)):\n",
    "        ques = dict_ques.keys()[i]\n",
    "        ans_len = dict_ques[ques][1]\n",
    "        ans = dict_ques[ques][0]\n",
    "    #     print(fw, ans)\n",
    "        if len_response_dist.has_key(ans_len):\n",
    "            len_response_dist[ans_len] += ans\n",
    "        else:\n",
    "            len_response_dist[ans_len] = ans\n",
    "            \n",
    "            \n",
    "    d4 = dict((k, float(len_response_dist[k]) / ans_len_dist[k]) for k in ans_len_dist)\n",
    "    list1 = []\n",
    "    main_ques = [1,2,3,4,5]\n",
    "    for ques in main_ques:\n",
    "        print(\"Question and dist are: \", ques, d4[ques], ans_len_dist[ques])\n",
    "        list1.append(d4[ques])\n",
    "    return list1"
   ]
  },
  {
   "cell_type": "code",
   "execution_count": 17,
   "metadata": {},
   "outputs": [
    {
     "name": "stdout",
     "output_type": "stream",
     "text": [
      "Exact Match: 58.3950617284\n",
      "F1:  65.9768945791\n",
      "Question and dist are:  1 0.617940199336 301\n",
      "Question and dist are:  2 0.648275862069 290\n",
      "Question and dist are:  3 0.503496503497 143\n",
      "Question and dist are:  4 0.379310344828 29\n",
      "Question and dist are:  5 0.5 12\n"
     ]
    }
   ],
   "source": [
    "bidaf_list = answer_len_analysis('predictions_bidaf_prob.json')"
   ]
  },
  {
   "cell_type": "code",
   "execution_count": 18,
   "metadata": {},
   "outputs": [
    {
     "name": "stdout",
     "output_type": "stream",
     "text": [
      "Exact Match: 56.2962962963\n",
      "F1:  64.6540487188\n",
      "Question and dist are:  1 0.60625 320\n",
      "Question and dist are:  2 0.654275092937 269\n",
      "Question and dist are:  3 0.473282442748 131\n",
      "Question and dist are:  4 0.41935483871 31\n",
      "Question and dist are:  5 0.2 10\n"
     ]
    }
   ],
   "source": [
    "rnet_list = answer_len_analysis('predictions_rnet_prob.json')"
   ]
  },
  {
   "cell_type": "code",
   "execution_count": 19,
   "metadata": {},
   "outputs": [
    {
     "data": {
      "image/png": "[encoded data removed]",
      "text/plain": [
       "<Figure size 432x288 with 1 Axes>"
      ]
     },
     "metadata": {},
     "output_type": "display_data"
    }
   ],
   "source": [
    "main_ques = [1,2,3,4,5]\n",
    "import numpy as np\n",
    "X = np.arange(8)\n",
    "import matplotlib.pyplot as plt\n",
    "% matplotlib inline\n",
    "\n",
    "fig=plt.figure() #Creates a new figure\n",
    "ax1=fig.add_subplot(111) #Plot with: 1 row, 1 column, first subplot.\n",
    "\n",
    "line1 = ax1.plot(main_ques, bidaf_list, '-r', label='BIDAF')\n",
    "line2 = ax1.plot(main_ques, rnet_list, '-b', label='RNET')\n",
    "# plt.axis('equal')\n",
    "plt.xticks(range(1,len(main_ques)+1), main_ques, size='small')\n",
    "\n",
    "plt.legend()\n",
    "# plt.figsize(10,10)\n",
    "\n",
    "# plt.bar(main_ques, bidaf_list, 'red', main_ques, rnet_list, 'blue')\n",
    "plt.ylabel('Average EM Accuracy')\n",
    "# # plt.plot(main_ques,rnet_list, color='blue')\n",
    "# # plt.axis(main_ques)\n",
    "plt.xlabel('Answer Length')\n",
    "plt.title('Comparison of accuracy based on Answer Length')\n",
    "plt.savefig('plots/answer_length.png')\n",
    "plt.show()\n"
   ]
  },
  {
   "cell_type": "code",
   "execution_count": null,
   "metadata": {},
   "outputs": [],
   "source": []
  }
 ],
 "metadata": {
  "kernelspec": {
   "display_name": "Python 3",
   "language": "python",
   "name": "python3"
  },
  "language_info": {
   "codemirror_mode": {
    "name": "ipython",
    "version": 3
   },
   "file_extension": ".py",
   "mimetype": "text/x-python",
   "name": "python",
   "nbconvert_exporter": "python",
   "pygments_lexer": "ipython3",
   "version": "3.7.4"
  }
 },
 "nbformat": 4,
 "nbformat_minor": 4
}
